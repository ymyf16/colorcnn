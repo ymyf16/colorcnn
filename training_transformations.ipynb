{
 "cells": [
  {
   "cell_type": "code",
   "execution_count": 3,
   "id": "15ad729d-83dc-4137-82de-4963f7d37f9b",
   "metadata": {},
   "outputs": [
    {
     "name": "stdout",
     "output_type": "stream",
     "text": [
      "→ Saved brightness=-100 set in /Users/charlotteimbert/Documents/SP2025/NEUR189B/tiny-imagenet-200/train_transformed/train_bright_-100\n",
      "→ Saved brightness=-50 set in /Users/charlotteimbert/Documents/SP2025/NEUR189B/tiny-imagenet-200/train_transformed/train_bright_-50\n",
      "→ Saved brightness=50 set in /Users/charlotteimbert/Documents/SP2025/NEUR189B/tiny-imagenet-200/train_transformed/train_bright_50\n",
      "→ Saved brightness=100 set in /Users/charlotteimbert/Documents/SP2025/NEUR189B/tiny-imagenet-200/train_transformed/train_bright_100\n"
     ]
    }
   ],
   "source": [
    "import os\n",
    "from PIL import Image\n",
    "\n",
    "def change_brightness(img: Image.Image, level: float) -> Image.Image:\n",
    "    def brightness(c: int) -> float:\n",
    "        return 128 + level + (c - 128)\n",
    "    if not -255.0 <= level <= 255.0:\n",
    "        raise ValueError(\"level must be between -255 and 255\")\n",
    "    return img.point(brightness)\n",
    "\n",
    "def transform_train_images(train_root: str, out_root_base: str, levels: list[float]):\n",
    "    for level in levels:\n",
    "        dst_base = os.path.join(out_root_base, f\"train_bright_{int(level)}\")\n",
    "        for class_name in os.listdir(train_root):\n",
    "            src_class_dir = os.path.join(train_root, class_name, \"images\")\n",
    "            dst_class_dir = os.path.join(dst_base, class_name)\n",
    "            if not os.path.isdir(src_class_dir):\n",
    "                continue\n",
    "            os.makedirs(dst_class_dir, exist_ok=True)\n",
    "\n",
    "            for fname in os.listdir(src_class_dir):\n",
    "                if not fname.lower().endswith((\".jpeg\", \".jpg\", \".png\")):\n",
    "                    continue\n",
    "                src_path = os.path.join(src_class_dir, fname)\n",
    "                dst_path = os.path.join(dst_class_dir, fname)\n",
    "\n",
    "                with Image.open(src_path) as img:\n",
    "                    img = img.convert(\"RGB\")\n",
    "                    bright = change_brightness(img, level)\n",
    "                    bright.save(dst_path)\n",
    "\n",
    "        print(f\"→ Saved brightness={level} set in {dst_base}\")\n",
    "\n",
    "if __name__ == \"__main__\":\n",
    "    TRAIN_ROOT    = \"/Users/charlotteimbert/Documents/SP2025/NEUR189B/tiny-imagenet-200/train\"\n",
    "    OUT_ROOT_BASE = \"/Users/charlotteimbert/Documents/SP2025/NEUR189B/tiny-imagenet-200/train_transformed\"\n",
    "    # same levels you used for validation\n",
    "    LEVELS = [-100, -50, 50, 100]  \n",
    "\n",
    "    transform_train_images(TRAIN_ROOT, OUT_ROOT_BASE, LEVELS)"
   ]
  },
  {
   "cell_type": "code",
   "execution_count": 5,
   "id": "4f682af0-7acd-4c36-a120-e5b5d2c28bf4",
   "metadata": {},
   "outputs": [
    {
     "name": "stdout",
     "output_type": "stream",
     "text": [
      "✅ Saved contrast=-100 images to: /Users/charlotteimbert/Documents/SP2025/NEUR189B/tiny-imagenet-200/train_transformed/train_contrast_-100\n",
      "✅ Saved contrast=-50 images to: /Users/charlotteimbert/Documents/SP2025/NEUR189B/tiny-imagenet-200/train_transformed/train_contrast_-50\n",
      "✅ Saved contrast=50 images to: /Users/charlotteimbert/Documents/SP2025/NEUR189B/tiny-imagenet-200/train_transformed/train_contrast_50\n",
      "✅ Saved contrast=100 images to: /Users/charlotteimbert/Documents/SP2025/NEUR189B/tiny-imagenet-200/train_transformed/train_contrast_100\n"
     ]
    }
   ],
   "source": [
    "import os\n",
    "from PIL import Image\n",
    "\n",
    "def change_contrast(img: Image.Image, level: int) -> Image.Image:\n",
    "    \"\"\"\n",
    "    Change contrast of an image using the given level.\n",
    "    Level should be between -255 (low contrast) to +255 (high contrast).\n",
    "    \"\"\"\n",
    "    if not -255 <= level <= 255:\n",
    "        raise ValueError(\"Contrast level must be between -255 and 255\")\n",
    "\n",
    "    factor = (259 * (level + 255)) / (255 * (259 - level))\n",
    "\n",
    "    def contrast(c: int) -> int:\n",
    "        return int(128 + factor * (c - 128))\n",
    "\n",
    "    return img.point(contrast)\n",
    "\n",
    "def transform_train_contrast_images(train_root: str, out_root_base: str, levels: list[int]):\n",
    "    \"\"\"\n",
    "    For each contrast `level`, walk train_root/<class>/images and write images\n",
    "    with altered contrast into out_root_base/train_contrast_<level>/<class>/...\n",
    "    \"\"\"\n",
    "    for level in levels:\n",
    "        dst_base = os.path.join(out_root_base, f\"train_contrast_{int(level)}\")\n",
    "        for class_name in os.listdir(train_root):\n",
    "            src_class_dir = os.path.join(train_root, class_name, \"images\")\n",
    "            dst_class_dir = os.path.join(dst_base, class_name)\n",
    "            if not os.path.isdir(src_class_dir):\n",
    "                continue\n",
    "            os.makedirs(dst_class_dir, exist_ok=True)\n",
    "\n",
    "            for fname in os.listdir(src_class_dir):\n",
    "                if not fname.lower().endswith((\".jpeg\", \".jpg\", \".png\")):\n",
    "                    continue\n",
    "                src_path = os.path.join(src_class_dir, fname)\n",
    "                dst_path = os.path.join(dst_class_dir, fname)\n",
    "\n",
    "                with Image.open(src_path) as img:\n",
    "                    img = img.convert(\"RGB\")\n",
    "                    contrasted = change_contrast(img, level)\n",
    "                    contrasted.save(dst_path)\n",
    "\n",
    "        print(f\"✅ Saved contrast={level} images to: {dst_base}\")\n",
    "\n",
    "if __name__ == \"__main__\":\n",
    "    TRAIN_ROOT = \"/Users/charlotteimbert/Documents/SP2025/NEUR189B/tiny-imagenet-200/train\"\n",
    "    OUT_ROOT_BASE = \"/Users/charlotteimbert/Documents/SP2025/NEUR189B/tiny-imagenet-200/train_transformed\"\n",
    "    CONTRAST_LEVELS = [-100, -50, 50, 100]\n",
    "\n",
    "    transform_train_contrast_images(TRAIN_ROOT, OUT_ROOT_BASE, CONTRAST_LEVELS)"
   ]
  }
 ],
 "metadata": {
  "kernelspec": {
   "display_name": "Python (finalproject)",
   "language": "python",
   "name": "finalproject"
  },
  "language_info": {
   "codemirror_mode": {
    "name": "ipython",
    "version": 3
   },
   "file_extension": ".py",
   "mimetype": "text/x-python",
   "name": "python",
   "nbconvert_exporter": "python",
   "pygments_lexer": "ipython3",
   "version": "3.12.4"
  }
 },
 "nbformat": 4,
 "nbformat_minor": 5
}
