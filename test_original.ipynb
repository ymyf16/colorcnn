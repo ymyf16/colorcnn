{
 "cells": [
  {
   "cell_type": "markdown",
   "id": "bb25436b",
   "metadata": {},
   "source": [
    "#### Trying to make the original model + original dataset (subset) work & get the results\n"
   ]
  },
  {
   "cell_type": "markdown",
   "id": "389caf93",
   "metadata": {},
   "source": []
  }
 ],
 "metadata": {
  "language_info": {
   "name": "python"
  }
 },
 "nbformat": 4,
 "nbformat_minor": 5
}
