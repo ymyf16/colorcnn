{
 "cells": [
  {
   "cell_type": "code",
   "execution_count": 1,
   "id": "60d145d7-2dad-4efc-b577-cae77d45ad5f",
   "metadata": {},
   "outputs": [],
   "source": [
    "import torch\n",
    "import torchvision.models as models\n",
    "import torchvision.transforms as transforms\n",
    "from torchvision import datasets\n",
    "from PIL import Image\n",
    "import matplotlib.pyplot as plt\n",
    "import json"
   ]
  },
  {
   "cell_type": "code",
   "execution_count": 5,
   "id": "7f87fb47-7140-482e-9479-4e72e2622874",
   "metadata": {},
   "outputs": [
    {
     "name": "stderr",
     "output_type": "stream",
     "text": [
      "/opt/anaconda3/lib/python3.12/site-packages/torchvision/models/_utils.py:208: UserWarning: The parameter 'pretrained' is deprecated since 0.13 and may be removed in the future, please use 'weights' instead.\n",
      "  warnings.warn(\n",
      "/opt/anaconda3/lib/python3.12/site-packages/torchvision/models/_utils.py:223: UserWarning: Arguments other than a weight enum or `None` for 'weights' are deprecated since 0.13 and may be removed in the future. The current behavior is equivalent to passing `weights=VGG16_Weights.IMAGENET1K_V1`. You can also use `weights=VGG16_Weights.DEFAULT` to get the most up-to-date weights.\n",
      "  warnings.warn(msg)\n"
     ]
    },
    {
     "name": "stdout",
     "output_type": "stream",
     "text": [
      "Downloading: \"https://download.pytorch.org/models/vgg16-397923af.pth\" to /Users/charlotteimbert/.cache/torch/hub/checkpoints/vgg16-397923af.pth\n"
     ]
    },
    {
     "name": "stderr",
     "output_type": "stream",
     "text": [
      "100%|████████████████████████████████████████| 528M/528M [00:27<00:00, 20.1MB/s]\n"
     ]
    },
    {
     "data": {
      "text/plain": [
       "VGG(\n",
       "  (features): Sequential(\n",
       "    (0): Conv2d(3, 64, kernel_size=(3, 3), stride=(1, 1), padding=(1, 1))\n",
       "    (1): ReLU(inplace=True)\n",
       "    (2): Conv2d(64, 64, kernel_size=(3, 3), stride=(1, 1), padding=(1, 1))\n",
       "    (3): ReLU(inplace=True)\n",
       "    (4): MaxPool2d(kernel_size=2, stride=2, padding=0, dilation=1, ceil_mode=False)\n",
       "    (5): Conv2d(64, 128, kernel_size=(3, 3), stride=(1, 1), padding=(1, 1))\n",
       "    (6): ReLU(inplace=True)\n",
       "    (7): Conv2d(128, 128, kernel_size=(3, 3), stride=(1, 1), padding=(1, 1))\n",
       "    (8): ReLU(inplace=True)\n",
       "    (9): MaxPool2d(kernel_size=2, stride=2, padding=0, dilation=1, ceil_mode=False)\n",
       "    (10): Conv2d(128, 256, kernel_size=(3, 3), stride=(1, 1), padding=(1, 1))\n",
       "    (11): ReLU(inplace=True)\n",
       "    (12): Conv2d(256, 256, kernel_size=(3, 3), stride=(1, 1), padding=(1, 1))\n",
       "    (13): ReLU(inplace=True)\n",
       "    (14): Conv2d(256, 256, kernel_size=(3, 3), stride=(1, 1), padding=(1, 1))\n",
       "    (15): ReLU(inplace=True)\n",
       "    (16): MaxPool2d(kernel_size=2, stride=2, padding=0, dilation=1, ceil_mode=False)\n",
       "    (17): Conv2d(256, 512, kernel_size=(3, 3), stride=(1, 1), padding=(1, 1))\n",
       "    (18): ReLU(inplace=True)\n",
       "    (19): Conv2d(512, 512, kernel_size=(3, 3), stride=(1, 1), padding=(1, 1))\n",
       "    (20): ReLU(inplace=True)\n",
       "    (21): Conv2d(512, 512, kernel_size=(3, 3), stride=(1, 1), padding=(1, 1))\n",
       "    (22): ReLU(inplace=True)\n",
       "    (23): MaxPool2d(kernel_size=2, stride=2, padding=0, dilation=1, ceil_mode=False)\n",
       "    (24): Conv2d(512, 512, kernel_size=(3, 3), stride=(1, 1), padding=(1, 1))\n",
       "    (25): ReLU(inplace=True)\n",
       "    (26): Conv2d(512, 512, kernel_size=(3, 3), stride=(1, 1), padding=(1, 1))\n",
       "    (27): ReLU(inplace=True)\n",
       "    (28): Conv2d(512, 512, kernel_size=(3, 3), stride=(1, 1), padding=(1, 1))\n",
       "    (29): ReLU(inplace=True)\n",
       "    (30): MaxPool2d(kernel_size=2, stride=2, padding=0, dilation=1, ceil_mode=False)\n",
       "  )\n",
       "  (avgpool): AdaptiveAvgPool2d(output_size=(7, 7))\n",
       "  (classifier): Sequential(\n",
       "    (0): Linear(in_features=25088, out_features=4096, bias=True)\n",
       "    (1): ReLU(inplace=True)\n",
       "    (2): Dropout(p=0.5, inplace=False)\n",
       "    (3): Linear(in_features=4096, out_features=4096, bias=True)\n",
       "    (4): ReLU(inplace=True)\n",
       "    (5): Dropout(p=0.5, inplace=False)\n",
       "    (6): Linear(in_features=4096, out_features=1000, bias=True)\n",
       "  )\n",
       ")"
      ]
     },
     "execution_count": 5,
     "metadata": {},
     "output_type": "execute_result"
    }
   ],
   "source": [
    "vgg16 = models.vgg16(pretrained = True)\n",
    "vgg16.eval()"
   ]
  },
  {
   "cell_type": "code",
   "execution_count": 7,
   "id": "7cacac64-edfa-47ec-a9dc-df4a769e34f3",
   "metadata": {},
   "outputs": [],
   "source": [
    "# 2. Load ImageNet labels (1000 class names) so you can decode output\n",
    "with open('imagenet_classes.txt') as f:\n",
    "    idx2label = [line.strip() for line in f.readlines()]\n",
    "\n",
    "# 3. Define transform (resize, normalize)\n",
    "transform = transforms.Compose([\n",
    "    transforms.Resize((224, 224)),\n",
    "    transforms.ToTensor(),\n",
    "    transforms.Normalize(\n",
    "        mean=[0.485, 0.456, 0.406], \n",
    "        std=[0.229, 0.224, 0.225]\n",
    "    )\n",
    "])"
   ]
  },
  {
   "cell_type": "code",
   "execution_count": 13,
   "id": "a7c35398-dfd6-441a-a9cf-a75e22e99b5c",
   "metadata": {},
   "outputs": [],
   "source": [
    "# 4. Load one example image from TinyImageNet\n",
    "img = Image.open('tiny-imagenet-200/val/images/val_0.JPEG').convert('RGB')\n",
    "img_transformed = transform(img).unsqueeze(0)  # [1, 3, 224, 224]"
   ]
  },
  {
   "cell_type": "code",
   "execution_count": 15,
   "id": "a763d01e-d7a5-4e20-a7e9-f95082613480",
   "metadata": {},
   "outputs": [],
   "source": [
    "# 5. Predict\n",
    "with torch.no_grad():\n",
    "    output = vgg16(img_transformed)"
   ]
  },
  {
   "cell_type": "code",
   "execution_count": 17,
   "id": "7804369a-7ae4-4ebb-aefb-8f845a506db4",
   "metadata": {},
   "outputs": [
    {
     "name": "stdout",
     "output_type": "stream",
     "text": [
      "bobsled: 0.1687\n",
      "stretcher: 0.0596\n",
      "snowmobile: 0.0459\n",
      "thresher: 0.0397\n",
      "chain saw: 0.0324\n"
     ]
    },
    {
     "data": {
      "image/png": "[encoded data removed]",
      "text/plain": [
       "<Figure size 640x480 with 1 Axes>"
      ]
     },
     "metadata": {},
     "output_type": "display_data"
    }
   ],
   "source": [
    "# 6. Decode top-5 predictions\n",
    "probabilities = torch.nn.functional.softmax(output[0], dim=0)\n",
    "top5_prob, top5_catid = torch.topk(probabilities, 5)\n",
    "\n",
    "for i in range(top5_prob.size(0)):\n",
    "    print(f\"{idx2label[top5_catid[i]]}: {top5_prob[i].item():.4f}\")\n",
    "\n",
    "# 7. (Optional) Show the image\n",
    "plt.imshow(img)\n",
    "plt.axis('off')\n",
    "plt.show()"
   ]
  },
  {
   "cell_type": "code",
   "execution_count": 19,
   "id": "1bb8c2a6-f7b3-44ff-aec7-5787994c5a53",
   "metadata": {},
   "outputs": [
    {
     "name": "stdout",
     "output_type": "stream",
     "text": [
      "Image: val_4861.JPEG\n",
      "True: European fire salamander, Salamandra salamandra\n",
      "Pred: European fire salamander (0.3545)\n",
      "----------------------------------------\n",
      "Image: val_7057.JPEG\n",
      "True: crane\n",
      "Pred: steel arch bridge (0.4083)\n",
      "----------------------------------------\n",
      "Image: val_5973.JPEG\n",
      "True: chain\n",
      "Pred: chain (0.3870)\n",
      "----------------------------------------\n",
      "Image: val_1411.JPEG\n",
      "True: seashore, coast, seacoast, sea-coast\n",
      "Pred: grey whale (0.3463)\n",
      "----------------------------------------\n",
      "Image: val_8117.JPEG\n",
      "True: picket fence, paling\n",
      "Pred: worm fence (0.3258)\n",
      "----------------------------------------\n",
      "Image: val_1219.JPEG\n",
      "True: kimono\n",
      "Pred: overskirt (0.1684)\n",
      "----------------------------------------\n",
      "Image: val_8887.JPEG\n",
      "True: slug\n",
      "Pred: tailed frog (0.3902)\n",
      "----------------------------------------\n",
      "Image: val_7359.JPEG\n",
      "True: ladybug, ladybeetle, lady beetle, ladybird, ladybird beetle\n",
      "Pred: ant (0.4878)\n",
      "----------------------------------------\n",
      "Image: val_8233.JPEG\n",
      "True: pole\n",
      "Pred: worm fence (0.1363)\n",
      "----------------------------------------\n",
      "Image: val_4703.JPEG\n",
      "True: drumstick\n",
      "Pred: polecat (0.1166)\n",
      "----------------------------------------\n",
      "Image: val_9782.JPEG\n",
      "True: jellyfish\n",
      "Pred: jellyfish (0.9919)\n",
      "----------------------------------------\n",
      "Image: val_1999.JPEG\n",
      "True: lawn mower, mower\n",
      "Pred: mobile home (0.3968)\n",
      "----------------------------------------\n",
      "Image: val_1993.JPEG\n",
      "True: guinea pig, Cavia cobaya\n",
      "Pred: fox squirrel (0.4054)\n",
      "----------------------------------------\n",
      "Image: val_7311.JPEG\n",
      "True: sock\n",
      "Pred: prison (0.1396)\n",
      "----------------------------------------\n",
      "Image: val_63.JPEG\n",
      "True: flagpole, flagstaff\n",
      "Pred: flagpole (0.3534)\n",
      "----------------------------------------\n",
      "Image: val_6793.JPEG\n",
      "True: seashore, coast, seacoast, sea-coast\n",
      "Pred: speedboat (0.2033)\n",
      "----------------------------------------\n",
      "Image: val_8759.JPEG\n",
      "True: brass, memorial tablet, plaque\n",
      "Pred: prayer rug (0.6380)\n",
      "----------------------------------------\n",
      "Image: val_7784.JPEG\n",
      "True: ice cream, icecream\n",
      "Pred: hot pot (0.2978)\n",
      "----------------------------------------\n",
      "Image: val_3029.JPEG\n",
      "True: military uniform\n",
      "Pred: pickelhaube (0.2257)\n",
      "----------------------------------------\n",
      "Image: val_8732.JPEG\n",
      "True: Persian cat\n",
      "Pred: Sealyham terrier (0.2588)\n",
      "----------------------------------------\n",
      "Image: val_4728.JPEG\n",
      "True: swimming trunks, bathing trunks\n",
      "Pred: seashore (0.1706)\n",
      "----------------------------------------\n",
      "Image: val_6327.JPEG\n",
      "True: jinrikisha, ricksha, rickshaw\n",
      "Pred: jinrikisha (0.3129)\n",
      "----------------------------------------\n",
      "Image: val_2785.JPEG\n",
      "True: vestment\n",
      "Pred: overskirt (0.3901)\n",
      "----------------------------------------\n",
      "Image: val_7116.JPEG\n",
      "True: viaduct\n",
      "Pred: Windsor tie (0.0558)\n",
      "----------------------------------------\n",
      "Image: val_2655.JPEG\n",
      "True: syringe\n",
      "Pred: velvet (0.0772)\n",
      "----------------------------------------\n",
      "Image: val_8553.JPEG\n",
      "True: Yorkshire terrier\n",
      "Pred: thresher (0.3954)\n",
      "----------------------------------------\n",
      "Image: val_7625.JPEG\n",
      "True: sunglasses, dark glasses, shades\n",
      "Pred: muzzle (0.5279)\n",
      "----------------------------------------\n",
      "Image: val_2023.JPEG\n",
      "True: backpack, back pack, knapsack, packsack, rucksack, haversack\n",
      "Pred: barrel (0.1975)\n",
      "----------------------------------------\n",
      "Image: val_2891.JPEG\n",
      "True: grasshopper, hopper\n",
      "Pred: seashore (0.2501)\n",
      "----------------------------------------\n",
      "Image: val_3104.JPEG\n",
      "True: frying pan, frypan, skillet\n",
      "Pred: hot pot (0.3563)\n",
      "----------------------------------------\n",
      "Image: val_8484.JPEG\n",
      "True: police van, police wagon, paddy wagon, patrol wagon, wagon, black Maria\n",
      "Pred: amphibian (0.2123)\n",
      "----------------------------------------\n",
      "Image: val_2202.JPEG\n",
      "True: golden retriever\n",
      "Pred: Irish water spaniel (0.1915)\n",
      "----------------------------------------\n",
      "Image: val_4492.JPEG\n",
      "True: police van, police wagon, paddy wagon, patrol wagon, wagon, black Maria\n",
      "Pred: moving van (0.6033)\n",
      "----------------------------------------\n",
      "Image: val_8580.JPEG\n",
      "True: snail\n",
      "Pred: Indian cobra (0.1490)\n",
      "----------------------------------------\n",
      "Image: val_5346.JPEG\n",
      "True: snail\n",
      "Pred: earthstar (0.4381)\n",
      "----------------------------------------\n",
      "Image: val_3581.JPEG\n",
      "True: scorpion\n",
      "Pred: sea snake (0.4291)\n",
      "----------------------------------------\n",
      "Image: val_4453.JPEG\n",
      "True: European fire salamander, Salamandra salamandra\n",
      "Pred: common newt (0.6852)\n",
      "----------------------------------------\n",
      "Image: val_4888.JPEG\n",
      "True: sulphur butterfly, sulfur butterfly\n",
      "Pred: sulphur butterfly (0.5482)\n",
      "----------------------------------------\n",
      "Image: val_1657.JPEG\n",
      "True: remote control, remote\n",
      "Pred: modem (0.2526)\n",
      "----------------------------------------\n",
      "Image: val_9875.JPEG\n",
      "True: bathtub, bathing tub, bath, tub\n",
      "Pred: nematode (0.1810)\n",
      "----------------------------------------\n",
      "Image: val_6171.JPEG\n",
      "True: drumstick\n",
      "Pred: oboe (0.2565)\n",
      "----------------------------------------\n",
      "Image: val_6837.JPEG\n",
      "True: American alligator, Alligator mississipiensis\n",
      "Pred: worm fence (0.1963)\n",
      "----------------------------------------\n",
      "Image: val_7542.JPEG\n",
      "True: dining table, board\n",
      "Pred: thresher (0.7803)\n",
      "----------------------------------------\n",
      "Image: val_5592.JPEG\n",
      "True: brain coral\n",
      "Pred: wild boar (0.1310)\n",
      "----------------------------------------\n",
      "Image: val_2081.JPEG\n",
      "True: torch\n",
      "Pred: neck brace (0.1413)\n",
      "----------------------------------------\n",
      "Image: val_832.JPEG\n",
      "True: teapot\n",
      "Pred: whiskey jug (0.6137)\n",
      "----------------------------------------\n",
      "Image: val_1894.JPEG\n",
      "True: scorpion\n",
      "Pred: scorpion (0.4208)\n",
      "----------------------------------------\n",
      "Image: val_8199.JPEG\n",
      "True: rugby ball\n",
      "Pred: soccer ball (0.1907)\n",
      "----------------------------------------\n",
      "Image: val_5244.JPEG\n",
      "True: oboe, hautboy, hautbois\n",
      "Pred: oboe (0.9327)\n",
      "----------------------------------------\n",
      "Image: val_4880.JPEG\n",
      "True: tailed frog, bell toad, ribbed toad, tailed toad, Ascaphus trui\n",
      "Pred: rock python (0.0651)\n",
      "----------------------------------------\n",
      "\n",
      "Rough Top-1 Match Accuracy: 8/50 = 16.00%\n"
     ]
    }
   ],
   "source": [
    "import torch\n",
    "import torchvision.models as models\n",
    "import torchvision.transforms as transforms\n",
    "from PIL import Image\n",
    "import os\n",
    "import random\n",
    "\n",
    "# --------- Setup ---------\n",
    "device = torch.device('cuda' if torch.cuda.is_available() else 'cpu')\n",
    "\n",
    "# Load pretrained VGG16\n",
    "vgg16 = models.vgg16(pretrained=True).to(device)\n",
    "vgg16.eval()\n",
    "\n",
    "# Load ImageNet class names (download this file if you don't have it)\n",
    "with open('imagenet_classes.txt') as f:\n",
    "    idx2label = [line.strip() for line in f.readlines()]\n",
    "\n",
    "# Load val_annotations.txt to map val images to WNIDs\n",
    "val_annotations = {}\n",
    "with open('tiny-imagenet-200/val/val_annotations.txt', 'r') as f:\n",
    "    for line in f.readlines():\n",
    "        parts = line.strip().split('\\t')\n",
    "        filename, wnid = parts[0], parts[1]\n",
    "        val_annotations[filename] = wnid\n",
    "\n",
    "# Load wnid -> human-readable label from words.txt\n",
    "wnid_to_label = {}\n",
    "with open('tiny-imagenet-200/words.txt', 'r') as f:\n",
    "    for line in f.readlines():\n",
    "        wnid, label = line.strip().split('\\t')\n",
    "        wnid_to_label[wnid] = label\n",
    "\n",
    "# Transform for VGG16\n",
    "transform = transforms.Compose([\n",
    "    transforms.Resize((224, 224)),\n",
    "    transforms.ToTensor(),\n",
    "    transforms.Normalize(mean=[0.485, 0.456, 0.406],\n",
    "                         std=[0.229, 0.224, 0.225])\n",
    "])\n",
    "\n",
    "# Path to validation images\n",
    "val_img_dir = 'tiny-imagenet-200/val/images'\n",
    "\n",
    "# --------- Evaluate ---------\n",
    "all_val_images = os.listdir(val_img_dir)\n",
    "sampled_images = random.sample(all_val_images, 50)  # sample 50 random images\n",
    "\n",
    "correct = 0\n",
    "\n",
    "for img_file in sampled_images:\n",
    "    img_path = os.path.join(val_img_dir, img_file)\n",
    "    img = Image.open(img_path).convert('RGB')\n",
    "    input_tensor = transform(img).unsqueeze(0).to(device)\n",
    "\n",
    "    with torch.no_grad():\n",
    "        output = vgg16(input_tensor)\n",
    "\n",
    "    probs = torch.nn.functional.softmax(output[0], dim=0)\n",
    "    top1_prob, top1_catid = torch.topk(probs, 1)\n",
    "\n",
    "    pred_label = idx2label[top1_catid.item()]\n",
    "    true_wnid = val_annotations[img_file]\n",
    "    true_label = wnid_to_label.get(true_wnid, 'unknown')\n",
    "\n",
    "    print(f\"Image: {img_file}\")\n",
    "    print(f\"True: {true_label}\")\n",
    "    print(f\"Pred: {pred_label} ({top1_prob.item():.4f})\")\n",
    "    print(\"-\" * 40)\n",
    "\n",
    "    # Quick matching heuristic: check if true label *word* appears inside pred_label\n",
    "    if true_label.split(',')[0].lower() in pred_label.lower():\n",
    "        correct += 1\n",
    "\n",
    "print(f\"\\nRough Top-1 Match Accuracy: {correct}/{len(sampled_images)} = {correct/len(sampled_images):.2%}\")\n"
   ]
  },
  {
   "cell_type": "code",
   "execution_count": null,
   "id": "dce67d92-ca19-40e3-b794-87ed18b00dea",
   "metadata": {},
   "outputs": [],
   "source": [
    "# --- IMPORTS ---\n",
    "import torch\n",
    "import torchvision.models as models\n",
    "import torchvision.transforms as transforms\n",
    "from torchvision.transforms.functional import rgb_to_grayscale\n",
    "from PIL import Image\n",
    "import os\n",
    "import numpy as np\n",
    "import pandas as pd\n",
    "from collections import defaultdict\n",
    "\n",
    "# --- DEVICE SETUP ---\n",
    "device = torch.device('cuda' if torch.cuda.is_available() else 'cpu')\n",
    "\n",
    "# --- LOAD MODEL ---\n",
    "vgg16 = models.vgg16(pretrained=True).to(device)\n",
    "vgg16.eval()\n",
    "\n",
    "# --- SETUP HOOKS ---\n",
    "activations = {}\n",
    "\n",
    "def get_activation(name):\n",
    "    def hook(model, input, output):\n",
    "        activations[name] = output.detach()\n",
    "    return hook\n",
    "\n",
    "# Hook conv layers\n",
    "for idx, layer in enumerate(vgg16.features):\n",
    "    if isinstance(layer, torch.nn.Conv2d):\n",
    "        layer.register_forward_hook(get_activation(f'conv{idx}'))\n",
    "\n",
    "# --- TRANSFORMS ---\n",
    "transform = transforms.Compose([\n",
    "    transforms.Resize((224, 224)),\n",
    "    transforms.ToTensor(),\n",
    "    transforms.Normalize(mean=[0.485, 0.456, 0.406],\n",
    "                         std=[0.229, 0.224, 0.225])\n",
    "])\n",
    "\n",
    "def to_grayscale(img_tensor):\n",
    "    return rgb_to_grayscale(img_tensor, num_output_channels=3)\n",
    "\n",
    "# --- FUNCTIONS ---\n",
    "\n",
    "def gather_color_activations(image_paths):\n",
    "    \"\"\"\n",
    "    Pass images through VGG16 and store mean activations per neuron.\n",
    "    \"\"\"\n",
    "    color_acts = defaultdict(lambda: defaultdict(list))\n",
    "\n",
    "    for img_path in image_paths:\n",
    "        img = Image.open(img_path).convert('RGB')\n",
    "        img_tensor = transform(img).unsqueeze(0).to(device)\n",
    "\n",
    "        with torch.no_grad():\n",
    "            vgg16(img_tensor)\n",
    "\n",
    "        for layer_name, act in activations.items():\n",
    "            mean_act = act.mean(dim=[0, 2, 3]).squeeze(0).cpu().numpy()  # [channels]\n",
    "            for neuron_idx, act_val in enumerate(mean_act):\n",
    "                color_acts[layer_name][neuron_idx].append((img_path, act_val))\n",
    "\n",
    "    return color_acts\n",
    "\n",
    "def compute_true_csi(color_acts, top_n=50):\n",
    "    \"\"\"\n",
    "    Given color activations, compute true CSI based on top-N images per neuron.\n",
    "    \"\"\"\n",
    "    true_csi = defaultdict(dict)\n",
    "\n",
    "    for layer_name, neurons in color_acts.items():\n",
    "        for neuron_idx, img_act_list in neurons.items():\n",
    "            # Sort images by activation strength (highest first)\n",
    "            img_act_list = sorted(img_act_list, key=lambda x: x[1], reverse=True)\n",
    "\n",
    "            top_imgs = [img for img, _ in img_act_list[:top_n]]\n",
    "\n",
    "            sum_color = 0\n",
    "            sum_gray = 0\n",
    "\n",
    "            for img_path in top_imgs:\n",
    "                img = Image.open(img_path).convert('RGB')\n",
    "                img_tensor = transform(img).unsqueeze(0).to(device)\n",
    "                input_gray = to_grayscale(transform(img)).unsqueeze(0).to(device)\n",
    "\n",
    "                with torch.no_grad():\n",
    "                    vgg16(img_tensor)\n",
    "                    color_mean = activations[layer_name].mean(dim=[0, 2, 3])[0, neuron_idx]\n",
    "\n",
    "                    vgg16(input_gray)\n",
    "                    gray_mean = activations[layer_name].mean(dim=[0, 2, 3])[0, neuron_idx]\n",
    "\n",
    "                sum_color += color_mean.item()\n",
    "                sum_gray += gray_mean.item()\n",
    "\n",
    "            csi = 1 - (sum_gray / (sum_color + 1e-8))\n",
    "            true_csi[layer_name][neuron_idx] = csi\n",
    "\n",
    "    return true_csi"
   ]
  },
  {
   "cell_type": "code",
   "execution_count": null,
   "id": "f32b0b8e-d287-4f04-b1cb-6e11c882dd75",
   "metadata": {},
   "outputs": [],
   "source": [
    "def compute_activation_curve(img_paths, transform_func, steps, layer_name, neuron_idx):\n",
    "    \"\"\"\n",
    "    Pass top-N images with perturbations and compute mean activation at each step.\n",
    "    \"\"\"\n",
    "    responses = []\n",
    "\n",
    "    for s in steps:\n",
    "        step_activations = []\n",
    "        for img_path in img_paths:\n",
    "            img = Image.open(img_path).convert('RGB')\n",
    "            img_transformed = transform_func(img, s)\n",
    "            input_tensor = transform(img_transformed).unsqueeze(0).to(device)\n",
    "\n",
    "            with torch.no_grad():\n",
    "                vgg16(input_tensor)\n",
    "\n",
    "            mean_act = activations[layer_name].mean(dim=[0, 2, 3])[0, neuron_idx]\n",
    "            step_activations.append(mean_act.item())\n",
    "\n",
    "        mean_response = np.mean(step_activations)\n",
    "        responses.append(mean_response)\n",
    "\n",
    "    return responses\n",
    "\n",
    "def plot_activation_curve(responses, steps, layer_name, neuron_idx):\n",
    "    plt.figure(figsize=(6,4))\n",
    "    plt.plot(steps, responses, marker='o')\n",
    "    plt.title(f'Neuron {neuron_idx} in {layer_name}\\nResponse Curve')\n",
    "    plt.xlabel('Perturbation')\n",
    "    plt.ylabel('Mean Activation')\n",
    "    plt.grid(True)\n",
    "    plt.show()"
   ]
  },
  {
   "cell_type": "code",
   "execution_count": null,
   "id": "e2fedd62-d06d-4d59-9936-89e009e413d2",
   "metadata": {},
   "outputs": [],
   "source": [
    "def save_csi_to_csv(true_csi, output_path='csi_results.csv'):\n",
    "    \"\"\"\n",
    "    Save true CSI results into a clean CSV file.\n",
    "    Each row = one neuron (layer, neuron_idx, CSI value).\n",
    "    \"\"\"\n",
    "    records = []\n",
    "\n",
    "    for layer_name, neurons in true_csi.items():\n",
    "        for neuron_idx, csi_value in neurons.items():\n",
    "            records.append({\n",
    "                'layer': layer_name,\n",
    "                'neuron_idx': neuron_idx,\n",
    "                'csi': csi_value\n",
    "            })\n",
    "\n",
    "    df = pd.DataFrame(records)\n",
    "    df.to_csv(output_path, index=False)\n",
    "    print(f\"Saved CSI results to {output_path}\")"
   ]
  },
  {
   "cell_type": "code",
   "execution_count": null,
   "id": "9baf6058-50ef-4999-b8aa-40d0451593c4",
   "metadata": {},
   "outputs": [],
   "source": [
    "df = pd.read_csv('csi_results.csv')\n",
    "\n",
    "# Mean CSI per layer\n",
    "mean_csi = df.groupby('layer')['csi'].mean()\n",
    "print(mean_csi)\n",
    "\n",
    "# Histogram of CSI for a specific layer\n",
    "import matplotlib.pyplot as plt\n",
    "\n",
    "layer = 'conv5'\n",
    "df_layer = df[df['layer'] == layer]\n",
    "\n",
    "plt.hist(df_layer['csi'], bins=20)\n",
    "plt.title(f'CSI Distribution in {layer}')\n",
    "plt.xlabel('CSI')\n",
    "plt.ylabel('Number of Neurons')\n",
    "plt.grid(True)\n",
    "plt.show()"
   ]
  },
  {
   "cell_type": "code",
   "execution_count": 5,
   "id": "63cf7f6f-861e-4552-a008-5ec10ae86cbb",
   "metadata": {},
   "outputs": [
    {
     "name": "stderr",
     "output_type": "stream",
     "text": [
      "/opt/anaconda3/lib/python3.12/site-packages/torchvision/models/_utils.py:208: UserWarning: The parameter 'pretrained' is deprecated since 0.13 and may be removed in the future, please use 'weights' instead.\n",
      "  warnings.warn(\n",
      "/opt/anaconda3/lib/python3.12/site-packages/torchvision/models/_utils.py:223: UserWarning: Arguments other than a weight enum or `None` for 'weights' are deprecated since 0.13 and may be removed in the future. The current behavior is equivalent to passing `weights=VGG16_Weights.IMAGENET1K_V1`. You can also use `weights=VGG16_Weights.DEFAULT` to get the most up-to-date weights.\n",
      "  warnings.warn(msg)\n"
     ]
    },
    {
     "name": "stdout",
     "output_type": "stream",
     "text": [
      "VGG16 truncated at layer 28 and moved to cpu.\n"
     ]
    }
   ],
   "source": [
    "# load the pre-trained VGG16 and specify which layer we'll extract feature activations from\n",
    "\n",
    "import torch\n",
    "import torch.nn as nn\n",
    "import torchvision.models as models\n",
    "import torchvision.transforms as transforms\n",
    "from torch.utils.data import DataLoader, Dataset\n",
    "import os\n",
    "from PIL import Image\n",
    "\n",
    "# Load pretrained VGG16\n",
    "vgg16 = models.vgg16(pretrained=True).eval()\n",
    "\n",
    "# Select the layer from which we want to extract neuron activations (e.g., conv5_3)\n",
    "target_layer = 28  # conv5_3 is the 29th layer in features (index 28)\n",
    "\n",
    "# Truncate model at selected layer\n",
    "vgg16_truncated = nn.Sequential(*list(vgg16.features.children())[:target_layer + 1])\n",
    "\n",
    "# Move to GPU if available\n",
    "device = torch.device(\"cuda\" if torch.cuda.is_available() else \"cpu\")\n",
    "vgg16_truncated = vgg16_truncated.to(device)\n",
    "\n",
    "print(f\"VGG16 truncated at layer {target_layer} and moved to {device}.\")"
   ]
  },
  {
   "cell_type": "code",
   "execution_count": 7,
   "id": "b56895ac-3961-466e-ba8d-b74751ce2da7",
   "metadata": {},
   "outputs": [
    {
     "name": "stdout",
     "output_type": "stream",
     "text": [
      "Loaded 10000 images from validation set.\n"
     ]
    }
   ],
   "source": [
    "# transform tinyimagenet validation images so that they are in the correct shape and size for VGG16; the class allows the transformation to be applied to all 10,000 images\n",
    "from torchvision.datasets.folder import default_loader\n",
    "\n",
    "# Define transform: resize to 224x224 (VGG16 input size), convert to tensor, normalize\n",
    "transform = transforms.Compose([\n",
    "    transforms.Resize((224, 224)),  # Resize to VGG16 input size\n",
    "    transforms.ToTensor(),\n",
    "    transforms.Normalize(mean=[0.485, 0.456, 0.406],  # ImageNet mean\n",
    "                         std=[0.229, 0.224, 0.225])   # ImageNet std\n",
    "])\n",
    "\n",
    "# Custom Dataset to load images from a folder\n",
    "class TinyImageNetValDataset(Dataset):\n",
    "    def __init__(self, image_dir, transform=None):\n",
    "        self.image_dir = image_dir\n",
    "        self.image_paths = sorted([\n",
    "            os.path.join(image_dir, fname)\n",
    "            for fname in os.listdir(image_dir)\n",
    "            if fname.endswith(\".JPEG\")\n",
    "        ])\n",
    "        self.transform = transform\n",
    "        self.loader = default_loader\n",
    "\n",
    "    def __len__(self):\n",
    "        return len(self.image_paths)\n",
    "\n",
    "    def __getitem__(self, idx):\n",
    "        image = self.loader(self.image_paths[idx])\n",
    "        if self.transform:\n",
    "            image = self.transform(image)\n",
    "        return image, self.image_paths[idx]  # return path for identification\n",
    "\n",
    "# Set path to your TinyImageNet val/images folder\n",
    "image_dir = \"/Users/charlotteimbert/Documents/SP2025/NEUR189B/tiny-imagenet-200/val/images\"\n",
    "\n",
    "# Create dataset and dataloader\n",
    "dataset = TinyImageNetValDataset(image_dir, transform=transform)\n",
    "dataloader = DataLoader(dataset, batch_size=32, shuffle=False)\n",
    "\n",
    "print(f\"Loaded {len(dataset)} images from validation set.\")"
   ]
  },
  {
   "cell_type": "code",
   "execution_count": 9,
   "id": "19fecf83-1fa6-4f16-81fb-7fdc0c70e11f",
   "metadata": {},
   "outputs": [
    {
     "data": {
      "text/plain": [
       "<torch.utils.hooks.RemovableHandle at 0x36a6feab0>"
      ]
     },
     "execution_count": 9,
     "metadata": {},
     "output_type": "execute_result"
    }
   ],
   "source": [
    "# create a hook to extract activations from neurons in specific layer; hook captures the layer outputs\n",
    "\n",
    "import torch\n",
    "import torchvision.models as models\n",
    "import torch.nn as nn\n",
    "\n",
    "# Load pretrained VGG16\n",
    "vgg16 = models.vgg16(pretrained=True).eval().to(device)\n",
    "\n",
    "# Choose layer name, e.g., last convolutional layer\n",
    "layer_name = 'features.28'\n",
    "activations = {}\n",
    "\n",
    "def get_activation(name):\n",
    "    def hook(model, input, output):\n",
    "        activations[name] = output.detach()\n",
    "    return hook\n",
    "\n",
    "# Register the hook\n",
    "layer = dict([*vgg16.named_modules()])[layer_name]\n",
    "layer.register_forward_hook(get_activation(layer_name))"
   ]
  },
  {
   "cell_type": "code",
   "execution_count": 11,
   "id": "dd4ce708-4f63-45d1-ae92-6c67f3bb3adb",
   "metadata": {},
   "outputs": [
    {
     "name": "stderr",
     "output_type": "stream",
     "text": [
      "100%|█████████████████████████████████████████| 625/625 [16:21<00:00,  1.57s/it]\n"
     ]
    }
   ],
   "source": [
    "# pass val images through the model and get activations\n",
    "\n",
    "from torch.utils.data import DataLoader\n",
    "from tqdm import tqdm\n",
    "\n",
    "activation_list = []\n",
    "image_paths = []\n",
    "\n",
    "# Adjust batch size as needed\n",
    "loader = DataLoader(dataset, batch_size=16, shuffle=False)\n",
    "\n",
    "with torch.no_grad():\n",
    "    for images, paths in tqdm(loader):\n",
    "        images = images.to(device)\n",
    "        _ = vgg16(images)  # forward pass\n",
    "        batch_acts = activations[layer_name].cpu()  # shape: [B, C, H, W]\n",
    "        \n",
    "        activation_list.extend(batch_acts)\n",
    "        image_paths.extend(paths)"
   ]
  },
  {
   "cell_type": "code",
   "execution_count": 13,
   "id": "cf46718c-26bf-4303-8ab1-80901578c81a",
   "metadata": {},
   "outputs": [],
   "source": [
    "import numpy as np\n",
    "import torchvision.transforms.functional as TF\n",
    "\n",
    "def get_top_patches(activation_list, image_paths, dataset, top_k=100):\n",
    "    neuron_patches = {}  # dict: neuron_idx -> list of patches\n",
    "\n",
    "    for neuron_idx in range(activation_list[0].shape[0]):\n",
    "        activations = []\n",
    "        for i, act in enumerate(activation_list):\n",
    "            max_val = act[neuron_idx].max().item()\n",
    "            activations.append((max_val, i))\n",
    "\n",
    "        # Sort and get top_k\n",
    "        top_k_indices = sorted(activations, key=lambda x: x[0], reverse=True)[:top_k]\n",
    "\n",
    "        patches = []\n",
    "        for _, img_idx in top_k_indices:\n",
    "            img_path = image_paths[img_idx]\n",
    "            original_img = Image.open(img_path).convert('RGB')\n",
    "            original_img = transform(original_img)  # same transform as dataset\n",
    "            patch_size = act.shape[1:]  # (H, W) of feature map\n",
    "            scale_factor = dataset[0][0].shape[1] / patch_size[1]  # image / activation width\n",
    "\n",
    "            # Get max location (x, y)\n",
    "            act_map = activation_list[img_idx][neuron_idx]\n",
    "            y, x = np.unravel_index(torch.argmax(act_map).item(), act_map.shape)\n",
    "\n",
    "            # Convert to pixel coordinates\n",
    "            x1 = int(x * scale_factor)\n",
    "            y1 = int(y * scale_factor)\n",
    "            x2 = x1 + int(scale_factor)\n",
    "            y2 = y1 + int(scale_factor)\n",
    "\n",
    "            # Clip and crop\n",
    "            x1, y1, x2, y2 = map(lambda v: max(0, min(v, original_img.shape[1])), [x1, y1, x2, y2])\n",
    "            patch = TF.crop(original_img, y1, x1, y2 - y1, x2 - x1)\n",
    "            patches.append(patch)\n",
    "\n",
    "        neuron_patches[neuron_idx] = patches\n",
    "\n",
    "    return neuron_patches"
   ]
  },
  {
   "cell_type": "code",
   "execution_count": 27,
   "id": "91ec5df0-03be-4494-83d7-0820b0e85fc6",
   "metadata": {},
   "outputs": [],
   "source": [
    "neuron_patches = get_top_patches(activation_list, image_paths, dataset)"
   ]
  },
  {
   "cell_type": "code",
   "execution_count": 37,
   "id": "127e48a5-28cc-4e2d-ab8a-c1dfb07b7df0",
   "metadata": {},
   "outputs": [],
   "source": [
    "from torchvision.transforms import ToTensor, ToPILImage\n",
    "import torch\n",
    "\n",
    "def compute_neuron_features(neuron_patches, activation_list, top_k=100):\n",
    "    neuron_features = {}\n",
    "\n",
    "    for neuron_idx, patches in neuron_patches.items():\n",
    "        if len(patches) == 0:\n",
    "            continue\n",
    "\n",
    "        # Convert patches to tensors and stack\n",
    "        patch_tensors = torch.stack([\n",
    "            p if isinstance(p, torch.Tensor) else ToTensor()(p)\n",
    "            for p in patches\n",
    "        ])\n",
    "\n",
    "        # Optionally use activations to weight patches\n",
    "        activations = []\n",
    "        for img_idx in range(top_k):\n",
    "            act_map = activation_list[img_idx][neuron_idx]\n",
    "            max_val = act_map.max().item()\n",
    "            activations.append(max_val)\n",
    "\n",
    "        activations = torch.tensor(activations)\n",
    "        norm_activations = activations / activations.sum()\n",
    "\n",
    "        # Compute weighted average (neuron feature)\n",
    "        nf = (patch_tensors * norm_activations[:, None, None, None]).sum(dim=0)  # shape: (3, H, W)\n",
    "        neuron_features[neuron_idx] = nf\n",
    "\n",
    "    return neuron_features"
   ]
  },
  {
   "cell_type": "code",
   "execution_count": 39,
   "id": "2ba102e2-f2d2-4ab2-a726-32e788b067ff",
   "metadata": {},
   "outputs": [],
   "source": [
    "def visualize_neuron_feature(nf_tensor):\n",
    "    img = ToPILImage()(nf_tensor.clamp(0,1))  # convert to PIL and clip to [0,1]\n",
    "    img.show()"
   ]
  },
  {
   "cell_type": "code",
   "execution_count": 41,
   "id": "e8b8e1d4-9351-4112-a4d4-01d24d5fdbb5",
   "metadata": {},
   "outputs": [],
   "source": [
    "neuron_features = compute_neuron_features(neuron_patches, activation_list)\n",
    "visualize_neuron_feature(neuron_features[0])"
   ]
  },
  {
   "cell_type": "code",
   "execution_count": 49,
   "id": "18a79fb5-22be-4049-934a-00f57680033e",
   "metadata": {},
   "outputs": [],
   "source": [
    "import os\n",
    "import torch\n",
    "import gc\n",
    "from torchvision.transforms import ToPILImage\n",
    "\n",
    "def save_neuron_features(neuron_features, out_dir=\"neuron_features\", max_to_save=None):\n",
    "    os.makedirs(out_dir, exist_ok=True)\n",
    "    for i, (neuron_idx, nf_tensor) in enumerate(neuron_features.items()):\n",
    "        if max_to_save is not None and i >= max_to_save:\n",
    "            break\n",
    "        nf_tensor = nf_tensor.cpu().clamp(0, 1)  # move to CPU and clip\n",
    "        img = ToPILImage()(nf_tensor)\n",
    "        img.save(os.path.join(out_dir, f\"neuron_{neuron_idx}.png\"))\n",
    "        del nf_tensor, img\n",
    "        gc.collect()"
   ]
  },
  {
   "cell_type": "code",
   "execution_count": 51,
   "id": "dcb51b81-01a9-43c0-81e6-ce71177236aa",
   "metadata": {},
   "outputs": [],
   "source": [
    "save_neuron_features(neuron_features, max_to_save=100)"
   ]
  },
  {
   "cell_type": "code",
   "execution_count": 53,
   "id": "aa205ff5-3d00-4ad3-b7ad-4a75026a8e6b",
   "metadata": {},
   "outputs": [
    {
     "data": {
      "image/png": "[encoded data removed]",
      "text/plain": [
       "<IPython.core.display.Image object>"
      ]
     },
     "metadata": {},
     "output_type": "display_data"
    },
    {
     "data": {
      "image/png": "[encoded data removed]",
      "text/plain": [
       "<IPython.core.display.Image object>"
      ]
     },
     "metadata": {},
     "output_type": "display_data"
    },
    {
     "data": {
      "image/png": "[encoded data removed]",
      "text/plain": [
       "<IPython.core.display.Image object>"
      ]
     },
     "metadata": {},
     "output_type": "display_data"
    },
    {
     "data": {
      "image/png": "[encoded data removed]",
      "text/plain": [
       "<IPython.core.display.Image object>"
      ]
     },
     "metadata": {},
     "output_type": "display_data"
    },
    {
     "data": {
      "image/png": "[encoded data removed]",
      "text/plain": [
       "<IPython.core.display.Image object>"
      ]
     },
     "metadata": {},
     "output_type": "display_data"
    },
    {
     "data": {
      "image/png": "[encoded data removed]",
      "text/plain": [
       "<IPython.core.display.Image object>"
      ]
     },
     "metadata": {},
     "output_type": "display_data"
    },
    {
     "data": {
      "image/png": "[encoded data removed]",
      "text/plain": [
       "<IPython.core.display.Image object>"
      ]
     },
     "metadata": {},
     "output_type": "display_data"
    },
    {
     "data": {
      "image/png": "[encoded data removed]",
      "text/plain": [
       "<IPython.core.display.Image object>"
      ]
     },
     "metadata": {},
     "output_type": "display_data"
    },
    {
     "data": {
      "image/png": "[encoded data removed]",
      "text/plain": [
       "<IPython.core.display.Image object>"
      ]
     },
     "metadata": {},
     "output_type": "display_data"
    },
    {
     "data": {
      "image/png": "[encoded data removed]",
      "text/plain": [
       "<IPython.core.display.Image object>"
      ]
     },
     "metadata": {},
     "output_type": "display_data"
    },
    {
     "data": {
      "image/png": "[encoded data removed]",
      "text/plain": [
       "<IPython.core.display.Image object>"
      ]
     },
     "metadata": {},
     "output_type": "display_data"
    },
    {
     "data": {
      "image/png": "[encoded data removed]",
      "text/plain": [
       "<IPython.core.display.Image object>"
      ]
     },
     "metadata": {},
     "output_type": "display_data"
    },
    {
     "data": {
      "image/png": "[encoded data removed]",
      "text/plain": [
       "<IPython.core.display.Image object>"
      ]
     },
     "metadata": {},
     "output_type": "display_data"
    },
    {
     "data": {
      "image/png": "[encoded data removed]",
      "text/plain": [
       "<IPython.core.display.Image object>"
      ]
     },
     "metadata": {},
     "output_type": "display_data"
    },
    {
     "data": {
      "image/png": "[encoded data removed]",
      "text/plain": [
       "<IPython.core.display.Image object>"
      ]
     },
     "metadata": {},
     "output_type": "display_data"
    },
    {
     "data": {
      "image/png": "[encoded data removed]",
      "text/plain": [
       "<IPython.core.display.Image object>"
      ]
     },
     "metadata": {},
     "output_type": "display_data"
    },
    {
     "data": {
      "image/png": "[encoded data removed]",
      "text/plain": [
       "<IPython.core.display.Image object>"
      ]
     },
     "metadata": {},
     "output_type": "display_data"
    },
    {
     "data": {
      "image/png": "[encoded data removed]",
      "text/plain": [
       "<IPython.core.display.Image object>"
      ]
     },
     "metadata": {},
     "output_type": "display_data"
    },
    {
     "data": {
      "image/png": "[encoded data removed]",
      "text/plain": [
       "<IPython.core.display.Image object>"
      ]
     },
     "metadata": {},
     "output_type": "display_data"
    },
    {
     "data": {
      "image/png": "[encoded data removed]",
      "text/plain": [
       "<IPython.core.display.Image object>"
      ]
     },
     "metadata": {},
     "output_type": "display_data"
    },
    {
     "data": {
      "image/png": "[encoded data removed]",
      "text/plain": [
       "<IPython.core.display.Image object>"
      ]
     },
     "metadata": {},
     "output_type": "display_data"
    },
    {
     "data": {
      "image/png": "[encoded data removed]",
      "text/plain": [
       "<IPython.core.display.Image object>"
      ]
     },
     "metadata": {},
     "output_type": "display_data"
    },
    {
     "data": {
      "image/png": "[encoded data removed]",
      "text/plain": [
       "<IPython.core.display.Image object>"
      ]
     },
     "metadata": {},
     "output_type": "display_data"
    },
    {
     "data": {
      "image/png": "[encoded data removed]",
      "text/plain": [
       "<IPython.core.display.Image object>"
      ]
     },
     "metadata": {},
     "output_type": "display_data"
    },
    {
     "data": {
      "image/png": "[encoded data removed]",
      "text/plain": [
       "<IPython.core.display.Image object>"
      ]
     },
     "metadata": {},
     "output_type": "display_data"
    },
    {
     "data": {
      "image/png": "[encoded data removed]",
      "text/plain": [
       "<IPython.core.display.Image object>"
      ]
     },
     "metadata": {},
     "output_type": "display_data"
    },
    {
     "data": {
      "image/png": "[encoded data removed]",
      "text/plain": [
       "<IPython.core.display.Image object>"
      ]
     },
     "metadata": {},
     "output_type": "display_data"
    },
    {
     "data": {
      "image/png": "[encoded data removed]",
      "text/plain": [
       "<IPython.core.display.Image object>"
      ]
     },
     "metadata": {},
     "output_type": "display_data"
    },
    {
     "data": {
      "image/png": "[encoded data removed]",
      "text/plain": [
       "<IPython.core.display.Image object>"
      ]
     },
     "metadata": {},
     "output_type": "display_data"
    },
    {
     "data": {
      "image/png": "[encoded data removed]",
      "text/plain": [
       "<IPython.core.display.Image object>"
      ]
     },
     "metadata": {},
     "output_type": "display_data"
    },
    {
     "data": {
      "image/png": "[encoded data removed]",
      "text/plain": [
       "<IPython.core.display.Image object>"
      ]
     },
     "metadata": {},
     "output_type": "display_data"
    },
    {
     "data": {
      "image/png": "[encoded data removed]",
      "text/plain": [
       "<IPython.core.display.Image object>"
      ]
     },
     "metadata": {},
     "output_type": "display_data"
    },
    {
     "data": {
      "image/png": "[encoded data removed]",
      "text/plain": [
       "<IPython.core.display.Image object>"
      ]
     },
     "metadata": {},
     "output_type": "display_data"
    },
    {
     "data": {
      "image/png": "[encoded data removed]",
      "text/plain": [
       "<IPython.core.display.Image object>"
      ]
     },
     "metadata": {},
     "output_type": "display_data"
    },
    {
     "data": {
      "image/png": "[encoded data removed]",
      "text/plain": [
       "<IPython.core.display.Image object>"
      ]
     },
     "metadata": {},
     "output_type": "display_data"
    },
    {
     "data": {
      "image/png": "[encoded data removed]",
      "text/plain": [
       "<IPython.core.display.Image object>"
      ]
     },
     "metadata": {},
     "output_type": "display_data"
    },
    {
     "data": {
      "image/png": "[encoded data removed]",
      "text/plain": [
       "<IPython.core.display.Image object>"
      ]
     },
     "metadata": {},
     "output_type": "display_data"
    },
    {
     "data": {
      "image/png": "[encoded data removed]",
      "text/plain": [
       "<IPython.core.display.Image object>"
      ]
     },
     "metadata": {},
     "output_type": "display_data"
    },
    {
     "data": {
      "image/png": "[encoded data removed]",
      "text/plain": [
       "<IPython.core.display.Image object>"
      ]
     },
     "metadata": {},
     "output_type": "display_data"
    },
    {
     "data": {
      "image/png": "[encoded data removed]",
      "text/plain": [
       "<IPython.core.display.Image object>"
      ]
     },
     "metadata": {},
     "output_type": "display_data"
    },
    {
     "data": {
      "image/png": "[encoded data removed]",
      "text/plain": [
       "<IPython.core.display.Image object>"
      ]
     },
     "metadata": {},
     "output_type": "display_data"
    },
    {
     "data": {
      "image/png": "[encoded data removed]",
      "text/plain": [
       "<IPython.core.display.Image object>"
      ]
     },
     "metadata": {},
     "output_type": "display_data"
    },
    {
     "data": {
      "image/png": "[encoded data removed]",
      "text/plain": [
       "<IPython.core.display.Image object>"
      ]
     },
     "metadata": {},
     "output_type": "display_data"
    },
    {
     "data": {
      "image/png": "[encoded data removed]",
      "text/plain": [
       "<IPython.core.display.Image object>"
      ]
     },
     "metadata": {},
     "output_type": "display_data"
    },
    {
     "data": {
      "image/png": "[encoded data removed]",
      "text/plain": [
       "<IPython.core.display.Image object>"
      ]
     },
     "metadata": {},
     "output_type": "display_data"
    },
    {
     "data": {
      "image/png": "[encoded data removed]",
      "text/plain": [
       "<IPython.core.display.Image object>"
      ]
     },
     "metadata": {},
     "output_type": "display_data"
    },
    {
     "data": {
      "image/png": "[encoded data removed]",
      "text/plain": [
       "<IPython.core.display.Image object>"
      ]
     },
     "metadata": {},
     "output_type": "display_data"
    },
    {
     "data": {
      "image/png": "[encoded data removed]",
      "text/plain": [
       "<IPython.core.display.Image object>"
      ]
     },
     "metadata": {},
     "output_type": "display_data"
    },
    {
     "data": {
      "image/png": "[encoded data removed]",
      "text/plain": [
       "<IPython.core.display.Image object>"
      ]
     },
     "metadata": {},
     "output_type": "display_data"
    },
    {
     "data": {
      "image/png": "[encoded data removed]",
      "text/plain": [
       "<IPython.core.display.Image object>"
      ]
     },
     "metadata": {},
     "output_type": "display_data"
    },
    {
     "data": {
      "image/png": "[encoded data removed]",
      "text/plain": [
       "<IPython.core.display.Image object>"
      ]
     },
     "metadata": {},
     "output_type": "display_data"
    },
    {
     "data": {
      "image/png": "[encoded data removed]",
      "text/plain": [
       "<IPython.core.display.Image object>"
      ]
     },
     "metadata": {},
     "output_type": "display_data"
    },
    {
     "data": {
      "image/png": "[encoded data removed]",
      "text/plain": [
       "<IPython.core.display.Image object>"
      ]
     },
     "metadata": {},
     "output_type": "display_data"
    },
    {
     "data": {
      "image/png": "[encoded data removed]",
      "text/plain": [
       "<IPython.core.display.Image object>"
      ]
     },
     "metadata": {},
     "output_type": "display_data"
    },
    {
     "data": {
      "image/png": "[encoded data removed]",
      "text/plain": [
       "<IPython.core.display.Image object>"
      ]
     },
     "metadata": {},
     "output_type": "display_data"
    },
    {
     "data": {
      "image/png": "[encoded data removed]",
      "text/plain": [
       "<IPython.core.display.Image object>"
      ]
     },
     "metadata": {},
     "output_type": "display_data"
    },
    {
     "data": {
      "image/png": "[encoded data removed]",
      "text/plain": [
       "<IPython.core.display.Image object>"
      ]
     },
     "metadata": {},
     "output_type": "display_data"
    },
    {
     "data": {
      "image/png": "[encoded data removed]",
      "text/plain": [
       "<IPython.core.display.Image object>"
      ]
     },
     "metadata": {},
     "output_type": "display_data"
    },
    {
     "data": {
      "image/png": "[encoded data removed]",
      "text/plain": [
       "<IPython.core.display.Image object>"
      ]
     },
     "metadata": {},
     "output_type": "display_data"
    },
    {
     "data": {
      "image/png": "[encoded data removed]",
      "text/plain": [
       "<IPython.core.display.Image object>"
      ]
     },
     "metadata": {},
     "output_type": "display_data"
    },
    {
     "data": {
      "image/png": "[encoded data removed]",
      "text/plain": [
       "<IPython.core.display.Image object>"
      ]
     },
     "metadata": {},
     "output_type": "display_data"
    },
    {
     "data": {
      "image/png": "[encoded data removed]",
      "text/plain": [
       "<IPython.core.display.Image object>"
      ]
     },
     "metadata": {},
     "output_type": "display_data"
    },
    {
     "data": {
      "image/png": "[encoded data removed]",
      "text/plain": [
       "<IPython.core.display.Image object>"
      ]
     },
     "metadata": {},
     "output_type": "display_data"
    },
    {
     "data": {
      "image/png": "[encoded data removed]",
      "text/plain": [
       "<IPython.core.display.Image object>"
      ]
     },
     "metadata": {},
     "output_type": "display_data"
    },
    {
     "data": {
      "image/png": "[encoded data removed]",
      "text/plain": [
       "<IPython.core.display.Image object>"
      ]
     },
     "metadata": {},
     "output_type": "display_data"
    },
    {
     "data": {
      "image/png": "[encoded data removed]",
      "text/plain": [
       "<IPython.core.display.Image object>"
      ]
     },
     "metadata": {},
     "output_type": "display_data"
    },
    {
     "data": {
      "image/png": "[encoded data removed]",
      "text/plain": [
       "<IPython.core.display.Image object>"
      ]
     },
     "metadata": {},
     "output_type": "display_data"
    },
    {
     "data": {
      "image/png": "[encoded data removed]",
      "text/plain": [
       "<IPython.core.display.Image object>"
      ]
     },
     "metadata": {},
     "output_type": "display_data"
    },
    {
     "data": {
      "image/png": "[encoded data removed]",
      "text/plain": [
       "<IPython.core.display.Image object>"
      ]
     },
     "metadata": {},
     "output_type": "display_data"
    },
    {
     "data": {
      "image/png": "[encoded data removed]",
      "text/plain": [
       "<IPython.core.display.Image object>"
      ]
     },
     "metadata": {},
     "output_type": "display_data"
    },
    {
     "data": {
      "image/png": "[encoded data removed]",
      "text/plain": [
       "<IPython.core.display.Image object>"
      ]
     },
     "metadata": {},
     "output_type": "display_data"
    },
    {
     "data": {
      "image/png": "[encoded data removed]",
      "text/plain": [
       "<IPython.core.display.Image object>"
      ]
     },
     "metadata": {},
     "output_type": "display_data"
    },
    {
     "data": {
      "image/png": "[encoded data removed]",
      "text/plain": [
       "<IPython.core.display.Image object>"
      ]
     },
     "metadata": {},
     "output_type": "display_data"
    },
    {
     "data": {
      "image/png": "[encoded data removed]",
      "text/plain": [
       "<IPython.core.display.Image object>"
      ]
     },
     "metadata": {},
     "output_type": "display_data"
    },
    {
     "data": {
      "image/png": "[encoded data removed]",
      "text/plain": [
       "<IPython.core.display.Image object>"
      ]
     },
     "metadata": {},
     "output_type": "display_data"
    },
    {
     "data": {
      "image/png": "[encoded data removed]",
      "text/plain": [
       "<IPython.core.display.Image object>"
      ]
     },
     "metadata": {},
     "output_type": "display_data"
    },
    {
     "data": {
      "image/png": "[encoded data removed]",
      "text/plain": [
       "<IPython.core.display.Image object>"
      ]
     },
     "metadata": {},
     "output_type": "display_data"
    },
    {
     "data": {
      "image/png": "[encoded data removed]",
      "text/plain": [
       "<IPython.core.display.Image object>"
      ]
     },
     "metadata": {},
     "output_type": "display_data"
    },
    {
     "data": {
      "image/png": "[encoded data removed]",
      "text/plain": [
       "<IPython.core.display.Image object>"
      ]
     },
     "metadata": {},
     "output_type": "display_data"
    },
    {
     "data": {
      "image/png": "[encoded data removed]",
      "text/plain": [
       "<IPython.core.display.Image object>"
      ]
     },
     "metadata": {},
     "output_type": "display_data"
    },
    {
     "data": {
      "image/png": "[encoded data removed]",
      "text/plain": [
       "<IPython.core.display.Image object>"
      ]
     },
     "metadata": {},
     "output_type": "display_data"
    },
    {
     "data": {
      "image/png": "[encoded data removed]",
      "text/plain": [
       "<IPython.core.display.Image object>"
      ]
     },
     "metadata": {},
     "output_type": "display_data"
    },
    {
     "data": {
      "image/png": "[encoded data removed]",
      "text/plain": [
       "<IPython.core.display.Image object>"
      ]
     },
     "metadata": {},
     "output_type": "display_data"
    },
    {
     "data": {
      "image/png": "[encoded data removed]",
      "text/plain": [
       "<IPython.core.display.Image object>"
      ]
     },
     "metadata": {},
     "output_type": "display_data"
    },
    {
     "data": {
      "image/png": "[encoded data removed]",
      "text/plain": [
       "<IPython.core.display.Image object>"
      ]
     },
     "metadata": {},
     "output_type": "display_data"
    },
    {
     "data": {
      "image/png": "[encoded data removed]",
      "text/plain": [
       "<IPython.core.display.Image object>"
      ]
     },
     "metadata": {},
     "output_type": "display_data"
    },
    {
     "data": {
      "image/png": "[encoded data removed]",
      "text/plain": [
       "<IPython.core.display.Image object>"
      ]
     },
     "metadata": {},
     "output_type": "display_data"
    },
    {
     "data": {
      "image/png": "[encoded data removed]",
      "text/plain": [
       "<IPython.core.display.Image object>"
      ]
     },
     "metadata": {},
     "output_type": "display_data"
    },
    {
     "data": {
      "image/png": "[encoded data removed]",
      "text/plain": [
       "<IPython.core.display.Image object>"
      ]
     },
     "metadata": {},
     "output_type": "display_data"
    },
    {
     "data": {
      "image/png": "[encoded data removed]",
      "text/plain": [
       "<IPython.core.display.Image object>"
      ]
     },
     "metadata": {},
     "output_type": "display_data"
    },
    {
     "data": {
      "image/png": "[encoded data removed]",
      "text/plain": [
       "<IPython.core.display.Image object>"
      ]
     },
     "metadata": {},
     "output_type": "display_data"
    },
    {
     "data": {
      "image/png": "[encoded data removed]",
      "text/plain": [
       "<IPython.core.display.Image object>"
      ]
     },
     "metadata": {},
     "output_type": "display_data"
    },
    {
     "data": {
      "image/png": "[encoded data removed]",
      "text/plain": [
       "<IPython.core.display.Image object>"
      ]
     },
     "metadata": {},
     "output_type": "display_data"
    },
    {
     "data": {
      "image/png": "[encoded data removed]",
      "text/plain": [
       "<IPython.core.display.Image object>"
      ]
     },
     "metadata": {},
     "output_type": "display_data"
    },
    {
     "data": {
      "image/png": "[encoded data removed]",
      "text/plain": [
       "<IPython.core.display.Image object>"
      ]
     },
     "metadata": {},
     "output_type": "display_data"
    },
    {
     "data": {
      "image/png": "[encoded data removed]",
      "text/plain": [
       "<IPython.core.display.Image object>"
      ]
     },
     "metadata": {},
     "output_type": "display_data"
    },
    {
     "data": {
      "image/png": "[encoded data removed]",
      "text/plain": [
       "<IPython.core.display.Image object>"
      ]
     },
     "metadata": {},
     "output_type": "display_data"
    },
    {
     "data": {
      "image/png": "[encoded data removed]",
      "text/plain": [
       "<IPython.core.display.Image object>"
      ]
     },
     "metadata": {},
     "output_type": "display_data"
    },
    {
     "data": {
      "image/png": "[encoded data removed]",
      "text/plain": [
       "<IPython.core.display.Image object>"
      ]
     },
     "metadata": {},
     "output_type": "display_data"
    },
    {
     "data": {
      "image/png": "[encoded data removed]",
      "text/plain": [
       "<IPython.core.display.Image object>"
      ]
     },
     "metadata": {},
     "output_type": "display_data"
    }
   ],
   "source": [
    "from IPython.display import display, Image\n",
    "import os\n",
    "\n",
    "image_dir = \"neuron_features\"\n",
    "\n",
    "# Make sure the directory exists\n",
    "if not os.path.exists(image_dir):\n",
    "    print(f\"Directory '{image_dir}' does not exist.\")\n",
    "else:\n",
    "    for i in range(100):\n",
    "        img_path = os.path.join(image_dir, f\"neuron_{i}.png\")\n",
    "        if os.path.isfile(img_path):\n",
    "            display(Image(filename=img_path))\n",
    "        else:\n",
    "            print(f\"Image {img_path} not found.\")"
   ]
  },
  {
   "cell_type": "code",
   "execution_count": 55,
   "id": "be1702f9-27bb-41c0-8c63-d64be8f26186",
   "metadata": {},
   "outputs": [],
   "source": [
    "import matplotlib.pyplot as plt\n",
    "from torchvision.transforms import ToPILImage\n",
    "import torch\n",
    "from PIL import Image\n",
    "import os\n",
    "\n",
    "def create_neuron_grid(neuron_features, grid_size=(10, 10), out_path=\"neuron_grid.png\"):\n",
    "    fig, axes = plt.subplots(*grid_size, figsize=(20, 20))\n",
    "    axes = axes.flatten()\n",
    "\n",
    "    for i, (neuron_idx, nf_tensor) in enumerate(neuron_features.items()):\n",
    "        if i >= grid_size[0] * grid_size[1]:\n",
    "            break\n",
    "        nf_tensor = nf_tensor.cpu().clamp(0, 1)\n",
    "        img = ToPILImage()(nf_tensor)\n",
    "        axes[i].imshow(img)\n",
    "        axes[i].axis('off')\n",
    "        axes[i].set_title(f\"Neuron {neuron_idx}\", fontsize=8)\n",
    "\n",
    "    plt.tight_layout()\n",
    "    plt.savefig(out_path)\n",
    "    plt.close()\n",
    "    print(f\"Saved neuron grid to {out_path}\")"
   ]
  },
  {
   "cell_type": "code",
   "execution_count": 57,
   "id": "039d4587-aa5f-4b08-9e43-d484f8195b39",
   "metadata": {},
   "outputs": [
    {
     "name": "stdout",
     "output_type": "stream",
     "text": [
      "Saved neuron grid to neuron_grid.png\n"
     ]
    }
   ],
   "source": [
    "create_neuron_grid(neuron_features, grid_size=(10, 10), out_path=\"neuron_grid.png\")"
   ]
  }
 ],
 "metadata": {
  "kernelspec": {
   "display_name": "Python (finalproject)",
   "language": "python",
   "name": "finalproject"
  },
  "language_info": {
   "codemirror_mode": {
    "name": "ipython",
    "version": 3
   },
   "file_extension": ".py",
   "mimetype": "text/x-python",
   "name": "python",
   "nbconvert_exporter": "python",
   "pygments_lexer": "ipython3",
   "version": "3.12.4"
  }
 },
 "nbformat": 4,
 "nbformat_minor": 5
}
